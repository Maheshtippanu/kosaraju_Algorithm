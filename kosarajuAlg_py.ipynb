{
  "nbformat": 4,
  "nbformat_minor": 0,
  "metadata": {
    "colab": {
      "provenance": [],
      "authorship_tag": "ABX9TyMIaB49GsDObula3UBy9woA",
      "include_colab_link": true
    },
    "kernelspec": {
      "name": "python3",
      "display_name": "Python 3"
    },
    "language_info": {
      "name": "python"
    }
  },
  "cells": [
    {
      "cell_type": "markdown",
      "metadata": {
        "id": "view-in-github",
        "colab_type": "text"
      },
      "source": [
        "<a href=\"https://colab.research.google.com/github/Maheshtippanu/kosaraju_Algorithm/blob/main/kosarajuAlg_py.ipynb\" target=\"_parent\"><img src=\"https://colab.research.google.com/assets/colab-badge.svg\" alt=\"Open In Colab\"/></a>"
      ]
    },
    {
      "cell_type": "code",
      "execution_count": 1,
      "metadata": {
        "colab": {
          "base_uri": "https://localhost:8080/"
        },
        "id": "Eto5X8DUQRVF",
        "outputId": "c0ae5d91-5919-4cd0-be37-a4c48e6f73d1"
      },
      "outputs": [
        {
          "output_type": "stream",
          "name": "stdout",
          "text": [
            "[[1, 3, 2], [4, 5]]\n"
          ]
        }
      ],
      "source": [
        "from collections import defaultdict\n",
        "\n",
        "class KosarajuSCC:\n",
        "    def __init__(self):\n",
        "        # Initialize the graph as a defaultdict of lists\n",
        "        self.graph = defaultdict(list)\n",
        "\n",
        "    def add_edge(self, u, v):\n",
        "        # Add an edge from vertex u to vertex v\n",
        "        self.graph[u].append(v)\n",
        "\n",
        "    # Step 1: Perform DFS and store vertices in finishing order\n",
        "    def _dfs(self, vertex, visited, stack):\n",
        "        visited.add(vertex)\n",
        "        for neighbor in self.graph[vertex]:\n",
        "            if neighbor not in visited:\n",
        "                self._dfs(neighbor, visited, stack)\n",
        "        stack.append(vertex)\n",
        "\n",
        "    # Step 2: Transpose the graph\n",
        "    def _transpose(self):\n",
        "        transposed = defaultdict(list)\n",
        "        for vertex in self.graph:\n",
        "            for neighbor in self.graph[vertex]:\n",
        "                transposed[neighbor].append(vertex)\n",
        "        return transposed\n",
        "\n",
        "    # Step 3: Perform DFS on the transposed graph\n",
        "    def _dfs_transposed(self, graph, vertex, visited, component):\n",
        "        visited.add(vertex)\n",
        "        component.append(vertex)\n",
        "        for neighbor in graph[vertex]:\n",
        "            if neighbor not in visited:\n",
        "                self._dfs_transposed(graph, neighbor, visited, component)\n",
        "\n",
        "    # Main function to find all SCCs\n",
        "    def find_sccs(self):\n",
        "        stack = []\n",
        "        visited = set()\n",
        "\n",
        "        # 1. Perform DFS on the original graph and store vertices by finishing time\n",
        "        for vertex in self.graph:\n",
        "            if vertex not in visited:\n",
        "                self._dfs(vertex, visited, stack)\n",
        "\n",
        "        # 2. Transpose the graph\n",
        "        transposed_graph = self._transpose()\n",
        "\n",
        "        # 3. Perform DFS on the transposed graph based on finishing time order\n",
        "        visited.clear()\n",
        "        sccs = []\n",
        "\n",
        "        while stack:\n",
        "            vertex = stack.pop()\n",
        "            if vertex not in visited:\n",
        "                component = []\n",
        "                self._dfs_transposed(transposed_graph, vertex, visited, component)\n",
        "                sccs.append(component)\n",
        "\n",
        "        return sccs\n",
        "\n",
        "# Example usage\n",
        "if __name__ == \"__main__\":\n",
        "    # Create an instance of the KosarajuSCC class\n",
        "    kosaraju = KosarajuSCC()\n",
        "\n",
        "    # Add edges to the graph\n",
        "    kosaraju.add_edge(1, 2)\n",
        "    kosaraju.add_edge(2, 3)\n",
        "    kosaraju.add_edge(3, 1)\n",
        "    kosaraju.add_edge(2, 4)\n",
        "    kosaraju.add_edge(4, 5)\n",
        "    kosaraju.add_edge(5, 4)\n",
        "\n",
        "    # Find and print the strongly connected components\n",
        "    print(kosaraju.find_sccs())\n"
      ]
    }
  ]
}